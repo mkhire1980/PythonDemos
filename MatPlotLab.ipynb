{
  "nbformat": 4,
  "nbformat_minor": 0,
  "metadata": {
    "colab": {
      "name": "MatPlotLab.ipynb",
      "provenance": [],
      "collapsed_sections": [],
      "toc_visible": true,
      "authorship_tag": "ABX9TyM7XkEOhm9Bk623c5mCKubz",
      "include_colab_link": true
    },
    "kernelspec": {
      "name": "python3",
      "display_name": "Python 3"
    }
  },
  "cells": [
    {
      "cell_type": "markdown",
      "metadata": {
        "id": "view-in-github",
        "colab_type": "text"
      },
      "source": [
        "<a href=\"https://colab.research.google.com/github/mkhire1980/PythonDemos/blob/main/MatPlotLab.ipynb\" target=\"_parent\"><img src=\"https://colab.research.google.com/assets/colab-badge.svg\" alt=\"Open In Colab\"/></a>"
      ]
    },
    {
      "cell_type": "code",
      "metadata": {
        "id": "qo01QO_NYc3Y",
        "colab": {
          "base_uri": "https://localhost:8080/"
        },
        "outputId": "d4b7a559-46b2-4ccd-b7c9-8e102b3d60a2"
      },
      "source": [
        "import matplotlib.pyplot as plt\r\n",
        "import numpy as np\r\n",
        "\r\n",
        "list_1 = [48.49, 67.54, 57.47, 68.17, 51.18, 68.31, 50.33, 66.7, 45.62, 43.59, 53.64, 70.08, 47.69, 61.27, 44.14, 51.62, 48.72, 65.11]\r\n",
        "nplist = np.array(list_1)\r\n",
        "\r\n",
        "# First quartile (Q1) \r\n",
        "Q1 = np.percentile(nplist, 25, interpolation = 'midpoint') \r\n",
        "  \r\n",
        "# Third quartile (Q3) \r\n",
        "Q3 = np.percentile(nplist, 75, interpolation = 'midpoint') \r\n",
        "print(Q1)  \r\n",
        "print(Q3) \r\n",
        "# Interquaritle range (IQR) \r\n",
        "IQR = Q3 - Q1 \r\n",
        "  \r\n",
        "print(IQR) "
      ],
      "execution_count": 4,
      "outputs": [
        {
          "output_type": "stream",
          "text": [
            "48.605000000000004\n",
            "65.905\n",
            "17.299999999999997\n"
          ],
          "name": "stdout"
        }
      ]
    },
    {
      "cell_type": "code",
      "metadata": {
        "id": "JGoD7tKCYeZk"
      },
      "source": [
        ""
      ],
      "execution_count": null,
      "outputs": []
    }
  ]
}