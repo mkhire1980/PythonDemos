{
  "nbformat": 4,
  "nbformat_minor": 0,
  "metadata": {
    "colab": {
      "name": "Copy of Exploratory Data Analysis",
      "provenance": [],
      "include_colab_link": true
    },
    "kernelspec": {
      "name": "python3",
      "display_name": "Python 3"
    },
    "language_info": {
      "name": "python"
    }
  },
  "cells": [
    {
      "cell_type": "markdown",
      "metadata": {
        "id": "view-in-github",
        "colab_type": "text"
      },
      "source": [
        "<a href=\"https://colab.research.google.com/github/mkhire1980/PythonDemos/blob/main/Copy_of_Exploratory_Data_Analysis.ipynb\" target=\"_parent\"><img src=\"https://colab.research.google.com/assets/colab-badge.svg\" alt=\"Open In Colab\"/></a>"
      ]
    },
    {
      "cell_type": "markdown",
      "metadata": {
        "id": "RN0_YJIxiUih"
      },
      "source": [
        "# EDA\n",
        "* <b> Why </b> <br>\n",
        "a. To understand your data in general <br>\n",
        "<i> Data Structure, Number ranges, category levels </i> \n",
        "b. Insights: <br>\n",
        " * Work on missing data <br>\n",
        " * Treat columns in different way <br>\n",
        " * Cleaning data <br>\n",
        " * Build up on Assumptions before diving into ML <br>\n",
        "\n",
        "* What <br>\n",
        " * Descriptive Stats <br>\n",
        " * Visualization <br>\n",
        " * etc... <br>\n",
        "\n",
        "* How <br>\n",
        " * Univariate, Bi Variate, Multivariate Analysis <br>\n",
        " * Extracting new features <br>\n",
        " * Subsets of Data <br>\n",
        "\n",
        "<b> NOTE: </b> EDA is majorly governed by the end goal of any analysis. Which can be predicting some variable or in general extraction of insights wrt data."
      ]
    },
    {
      "cell_type": "code",
      "metadata": {
        "id": "C1jjI3kVYJPG"
      },
      "source": [
        "#Required Libraries\n",
        "import pandas as pd\n",
        "import numpy as np\n",
        "import seaborn as sns\n",
        "import re\n",
        "import matplotlib.pyplot as plt"
      ],
      "execution_count": null,
      "outputs": []
    },
    {
      "cell_type": "markdown",
      "metadata": {
        "id": "5IknmJm-Xgbc"
      },
      "source": [
        "## NETFLIX & CHILL"
      ]
    },
    {
      "cell_type": "code",
      "metadata": {
        "colab": {
          "base_uri": "https://localhost:8080/",
          "height": 297
        },
        "id": "9BaEIcr_SOyo",
        "outputId": "2863b84e-1b52-4e0c-a88b-2775263f87d2"
      },
      "source": [
        "nchill = pd.read_csv(\"/content/drive/MyDrive/2_UPg/EDA/NetflixNchill/netflix_titles.csv\")\n",
        "print(nchill.shape)\n",
        "nchill.head(3)"
      ],
      "execution_count": null,
      "outputs": [
        {
          "output_type": "stream",
          "text": [
            "(7787, 12)\n"
          ],
          "name": "stdout"
        },
        {
          "output_type": "execute_result",
          "data": {
            "text/html": [
              "<div>\n",
              "<style scoped>\n",
              "    .dataframe tbody tr th:only-of-type {\n",
              "        vertical-align: middle;\n",
              "    }\n",
              "\n",
              "    .dataframe tbody tr th {\n",
              "        vertical-align: top;\n",
              "    }\n",
              "\n",
              "    .dataframe thead th {\n",
              "        text-align: right;\n",
              "    }\n",
              "</style>\n",
              "<table border=\"1\" class=\"dataframe\">\n",
              "  <thead>\n",
              "    <tr style=\"text-align: right;\">\n",
              "      <th></th>\n",
              "      <th>show_id</th>\n",
              "      <th>type</th>\n",
              "      <th>title</th>\n",
              "      <th>director</th>\n",
              "      <th>cast</th>\n",
              "      <th>country</th>\n",
              "      <th>date_added</th>\n",
              "      <th>release_year</th>\n",
              "      <th>rating</th>\n",
              "      <th>duration</th>\n",
              "      <th>listed_in</th>\n",
              "      <th>description</th>\n",
              "    </tr>\n",
              "  </thead>\n",
              "  <tbody>\n",
              "    <tr>\n",
              "      <th>0</th>\n",
              "      <td>s1</td>\n",
              "      <td>TV Show</td>\n",
              "      <td>3%</td>\n",
              "      <td>NaN</td>\n",
              "      <td>João Miguel, Bianca Comparato, Michel Gomes, R...</td>\n",
              "      <td>Brazil</td>\n",
              "      <td>August 14, 2020</td>\n",
              "      <td>2020</td>\n",
              "      <td>TV-MA</td>\n",
              "      <td>4 Seasons</td>\n",
              "      <td>International TV Shows, TV Dramas, TV Sci-Fi &amp;...</td>\n",
              "      <td>In a future where the elite inhabit an island ...</td>\n",
              "    </tr>\n",
              "    <tr>\n",
              "      <th>1</th>\n",
              "      <td>s2</td>\n",
              "      <td>Movie</td>\n",
              "      <td>7:19</td>\n",
              "      <td>Jorge Michel Grau</td>\n",
              "      <td>Demián Bichir, Héctor Bonilla, Oscar Serrano, ...</td>\n",
              "      <td>Mexico</td>\n",
              "      <td>December 23, 2016</td>\n",
              "      <td>2016</td>\n",
              "      <td>TV-MA</td>\n",
              "      <td>93 min</td>\n",
              "      <td>Dramas, International Movies</td>\n",
              "      <td>After a devastating earthquake hits Mexico Cit...</td>\n",
              "    </tr>\n",
              "    <tr>\n",
              "      <th>2</th>\n",
              "      <td>s3</td>\n",
              "      <td>Movie</td>\n",
              "      <td>23:59</td>\n",
              "      <td>Gilbert Chan</td>\n",
              "      <td>Tedd Chan, Stella Chung, Henley Hii, Lawrence ...</td>\n",
              "      <td>Singapore</td>\n",
              "      <td>December 20, 2018</td>\n",
              "      <td>2011</td>\n",
              "      <td>R</td>\n",
              "      <td>78 min</td>\n",
              "      <td>Horror Movies, International Movies</td>\n",
              "      <td>When an army recruit is found dead, his fellow...</td>\n",
              "    </tr>\n",
              "  </tbody>\n",
              "</table>\n",
              "</div>"
            ],
            "text/plain": [
              "  show_id  ...                                        description\n",
              "0      s1  ...  In a future where the elite inhabit an island ...\n",
              "1      s2  ...  After a devastating earthquake hits Mexico Cit...\n",
              "2      s3  ...  When an army recruit is found dead, his fellow...\n",
              "\n",
              "[3 rows x 12 columns]"
            ]
          },
          "metadata": {
            "tags": []
          },
          "execution_count": 2
        }
      ]
    },
    {
      "cell_type": "markdown",
      "metadata": {
        "id": "w_4CGiX8YG0K"
      },
      "source": [
        "#### Data Exploration"
      ]
    },
    {
      "cell_type": "code",
      "metadata": {
        "colab": {
          "base_uri": "https://localhost:8080/"
        },
        "id": "5Ib5Wrb7YrWL",
        "outputId": "ada5fc4f-9e6d-40e0-aaab-1330ea3c5b00"
      },
      "source": [
        "nchill.info()"
      ],
      "execution_count": null,
      "outputs": [
        {
          "output_type": "stream",
          "text": [
            "<class 'pandas.core.frame.DataFrame'>\n",
            "RangeIndex: 7787 entries, 0 to 7786\n",
            "Data columns (total 12 columns):\n",
            " #   Column        Non-Null Count  Dtype \n",
            "---  ------        --------------  ----- \n",
            " 0   show_id       7787 non-null   object\n",
            " 1   type          7787 non-null   object\n",
            " 2   title         7787 non-null   object\n",
            " 3   director      5398 non-null   object\n",
            " 4   cast          7069 non-null   object\n",
            " 5   country       7280 non-null   object\n",
            " 6   date_added    7777 non-null   object\n",
            " 7   release_year  7787 non-null   int64 \n",
            " 8   rating        7780 non-null   object\n",
            " 9   duration      7787 non-null   object\n",
            " 10  listed_in     7787 non-null   object\n",
            " 11  description   7787 non-null   object\n",
            "dtypes: int64(1), object(11)\n",
            "memory usage: 730.2+ KB\n"
          ],
          "name": "stdout"
        }
      ]
    },
    {
      "cell_type": "code",
      "metadata": {
        "colab": {
          "base_uri": "https://localhost:8080/",
          "height": 438
        },
        "id": "Ebu1b1OuY_Ox",
        "outputId": "76c80af9-77ac-42aa-9d91-fe476df68723"
      },
      "source": [
        "nchill.describe(include = 'all')"
      ],
      "execution_count": null,
      "outputs": [
        {
          "output_type": "execute_result",
          "data": {
            "text/html": [
              "<div>\n",
              "<style scoped>\n",
              "    .dataframe tbody tr th:only-of-type {\n",
              "        vertical-align: middle;\n",
              "    }\n",
              "\n",
              "    .dataframe tbody tr th {\n",
              "        vertical-align: top;\n",
              "    }\n",
              "\n",
              "    .dataframe thead th {\n",
              "        text-align: right;\n",
              "    }\n",
              "</style>\n",
              "<table border=\"1\" class=\"dataframe\">\n",
              "  <thead>\n",
              "    <tr style=\"text-align: right;\">\n",
              "      <th></th>\n",
              "      <th>show_id</th>\n",
              "      <th>type</th>\n",
              "      <th>title</th>\n",
              "      <th>director</th>\n",
              "      <th>cast</th>\n",
              "      <th>country</th>\n",
              "      <th>date_added</th>\n",
              "      <th>release_year</th>\n",
              "      <th>rating</th>\n",
              "      <th>duration</th>\n",
              "      <th>listed_in</th>\n",
              "      <th>description</th>\n",
              "    </tr>\n",
              "  </thead>\n",
              "  <tbody>\n",
              "    <tr>\n",
              "      <th>count</th>\n",
              "      <td>7787</td>\n",
              "      <td>7787</td>\n",
              "      <td>7787</td>\n",
              "      <td>5398</td>\n",
              "      <td>7069</td>\n",
              "      <td>7280</td>\n",
              "      <td>7777</td>\n",
              "      <td>7787.000000</td>\n",
              "      <td>7780</td>\n",
              "      <td>7787</td>\n",
              "      <td>7787</td>\n",
              "      <td>7787</td>\n",
              "    </tr>\n",
              "    <tr>\n",
              "      <th>unique</th>\n",
              "      <td>7787</td>\n",
              "      <td>2</td>\n",
              "      <td>7787</td>\n",
              "      <td>4049</td>\n",
              "      <td>6831</td>\n",
              "      <td>681</td>\n",
              "      <td>1565</td>\n",
              "      <td>NaN</td>\n",
              "      <td>14</td>\n",
              "      <td>216</td>\n",
              "      <td>492</td>\n",
              "      <td>7769</td>\n",
              "    </tr>\n",
              "    <tr>\n",
              "      <th>top</th>\n",
              "      <td>s4785</td>\n",
              "      <td>Movie</td>\n",
              "      <td>Ralph Breaks the Internet: Wreck-It Ralph 2</td>\n",
              "      <td>Raúl Campos, Jan Suter</td>\n",
              "      <td>David Attenborough</td>\n",
              "      <td>United States</td>\n",
              "      <td>January 1, 2020</td>\n",
              "      <td>NaN</td>\n",
              "      <td>TV-MA</td>\n",
              "      <td>1 Season</td>\n",
              "      <td>Documentaries</td>\n",
              "      <td>A surly septuagenarian gets another chance at ...</td>\n",
              "    </tr>\n",
              "    <tr>\n",
              "      <th>freq</th>\n",
              "      <td>1</td>\n",
              "      <td>5377</td>\n",
              "      <td>1</td>\n",
              "      <td>18</td>\n",
              "      <td>18</td>\n",
              "      <td>2555</td>\n",
              "      <td>118</td>\n",
              "      <td>NaN</td>\n",
              "      <td>2863</td>\n",
              "      <td>1608</td>\n",
              "      <td>334</td>\n",
              "      <td>3</td>\n",
              "    </tr>\n",
              "    <tr>\n",
              "      <th>mean</th>\n",
              "      <td>NaN</td>\n",
              "      <td>NaN</td>\n",
              "      <td>NaN</td>\n",
              "      <td>NaN</td>\n",
              "      <td>NaN</td>\n",
              "      <td>NaN</td>\n",
              "      <td>NaN</td>\n",
              "      <td>2013.932580</td>\n",
              "      <td>NaN</td>\n",
              "      <td>NaN</td>\n",
              "      <td>NaN</td>\n",
              "      <td>NaN</td>\n",
              "    </tr>\n",
              "    <tr>\n",
              "      <th>std</th>\n",
              "      <td>NaN</td>\n",
              "      <td>NaN</td>\n",
              "      <td>NaN</td>\n",
              "      <td>NaN</td>\n",
              "      <td>NaN</td>\n",
              "      <td>NaN</td>\n",
              "      <td>NaN</td>\n",
              "      <td>8.757395</td>\n",
              "      <td>NaN</td>\n",
              "      <td>NaN</td>\n",
              "      <td>NaN</td>\n",
              "      <td>NaN</td>\n",
              "    </tr>\n",
              "    <tr>\n",
              "      <th>min</th>\n",
              "      <td>NaN</td>\n",
              "      <td>NaN</td>\n",
              "      <td>NaN</td>\n",
              "      <td>NaN</td>\n",
              "      <td>NaN</td>\n",
              "      <td>NaN</td>\n",
              "      <td>NaN</td>\n",
              "      <td>1925.000000</td>\n",
              "      <td>NaN</td>\n",
              "      <td>NaN</td>\n",
              "      <td>NaN</td>\n",
              "      <td>NaN</td>\n",
              "    </tr>\n",
              "    <tr>\n",
              "      <th>25%</th>\n",
              "      <td>NaN</td>\n",
              "      <td>NaN</td>\n",
              "      <td>NaN</td>\n",
              "      <td>NaN</td>\n",
              "      <td>NaN</td>\n",
              "      <td>NaN</td>\n",
              "      <td>NaN</td>\n",
              "      <td>2013.000000</td>\n",
              "      <td>NaN</td>\n",
              "      <td>NaN</td>\n",
              "      <td>NaN</td>\n",
              "      <td>NaN</td>\n",
              "    </tr>\n",
              "    <tr>\n",
              "      <th>50%</th>\n",
              "      <td>NaN</td>\n",
              "      <td>NaN</td>\n",
              "      <td>NaN</td>\n",
              "      <td>NaN</td>\n",
              "      <td>NaN</td>\n",
              "      <td>NaN</td>\n",
              "      <td>NaN</td>\n",
              "      <td>2017.000000</td>\n",
              "      <td>NaN</td>\n",
              "      <td>NaN</td>\n",
              "      <td>NaN</td>\n",
              "      <td>NaN</td>\n",
              "    </tr>\n",
              "    <tr>\n",
              "      <th>75%</th>\n",
              "      <td>NaN</td>\n",
              "      <td>NaN</td>\n",
              "      <td>NaN</td>\n",
              "      <td>NaN</td>\n",
              "      <td>NaN</td>\n",
              "      <td>NaN</td>\n",
              "      <td>NaN</td>\n",
              "      <td>2018.000000</td>\n",
              "      <td>NaN</td>\n",
              "      <td>NaN</td>\n",
              "      <td>NaN</td>\n",
              "      <td>NaN</td>\n",
              "    </tr>\n",
              "    <tr>\n",
              "      <th>max</th>\n",
              "      <td>NaN</td>\n",
              "      <td>NaN</td>\n",
              "      <td>NaN</td>\n",
              "      <td>NaN</td>\n",
              "      <td>NaN</td>\n",
              "      <td>NaN</td>\n",
              "      <td>NaN</td>\n",
              "      <td>2021.000000</td>\n",
              "      <td>NaN</td>\n",
              "      <td>NaN</td>\n",
              "      <td>NaN</td>\n",
              "      <td>NaN</td>\n",
              "    </tr>\n",
              "  </tbody>\n",
              "</table>\n",
              "</div>"
            ],
            "text/plain": [
              "       show_id  ...                                        description\n",
              "count     7787  ...                                               7787\n",
              "unique    7787  ...                                               7769\n",
              "top      s4785  ...  A surly septuagenarian gets another chance at ...\n",
              "freq         1  ...                                                  3\n",
              "mean       NaN  ...                                                NaN\n",
              "std        NaN  ...                                                NaN\n",
              "min        NaN  ...                                                NaN\n",
              "25%        NaN  ...                                                NaN\n",
              "50%        NaN  ...                                                NaN\n",
              "75%        NaN  ...                                                NaN\n",
              "max        NaN  ...                                                NaN\n",
              "\n",
              "[11 rows x 12 columns]"
            ]
          },
          "metadata": {
            "tags": []
          },
          "execution_count": 4
        }
      ]
    },
    {
      "cell_type": "markdown",
      "metadata": {
        "id": "CBeTBxHMZ20P"
      },
      "source": [
        "### Treatment of Variables\n",
        "* Changing 'type' to Categorical\n",
        "* Changing 'date_added' to Date type\n",
        "* Changing 'ratings' to categories\n",
        "* Director and country have NA values, changing it to Unknown"
      ]
    },
    {
      "cell_type": "code",
      "metadata": {
        "colab": {
          "base_uri": "https://localhost:8080/"
        },
        "id": "2hUMOgRZv0c_",
        "outputId": "94b682f5-56f3-44d5-bc2f-87c649aeab3b"
      },
      "source": [
        "#Before we head into changing the data we can inspect what we have in it\n",
        "nchill['rating'].value_counts(dropna = False)"
      ],
      "execution_count": null,
      "outputs": [
        {
          "output_type": "execute_result",
          "data": {
            "text/plain": [
              "TV-MA       2863\n",
              "TV-14       1931\n",
              "TV-PG        806\n",
              "R            665\n",
              "PG-13        386\n",
              "TV-Y         280\n",
              "TV-Y7        271\n",
              "PG           247\n",
              "TV-G         194\n",
              "NR            84\n",
              "G             39\n",
              "NaN            7\n",
              "TV-Y7-FV       6\n",
              "UR             5\n",
              "NC-17          3\n",
              "Name: rating, dtype: int64"
            ]
          },
          "metadata": {
            "tags": []
          },
          "execution_count": 5
        }
      ]
    },
    {
      "cell_type": "code",
      "metadata": {
        "colab": {
          "base_uri": "https://localhost:8080/"
        },
        "id": "lgNDo7sRvw34",
        "outputId": "3f710c76-51dd-4a83-f00a-417717cee44b"
      },
      "source": [
        "#Here UR and NR are the same, so we change it to NR\n",
        "nchill['rating'] = nchill['rating'].replace('NR','UR')\n",
        "nchill['rating'] = nchill['rating'].fillna('NR')\n",
        "nchill['rating'].unique()"
      ],
      "execution_count": null,
      "outputs": [
        {
          "output_type": "execute_result",
          "data": {
            "text/plain": [
              "array(['TV-MA', 'R', 'PG-13', 'TV-14', 'TV-PG', 'UR', 'TV-G', 'TV-Y',\n",
              "       'NR', 'TV-Y7', 'PG', 'G', 'NC-17', 'TV-Y7-FV'], dtype=object)"
            ]
          },
          "metadata": {
            "tags": []
          },
          "execution_count": 6
        }
      ]
    },
    {
      "cell_type": "code",
      "metadata": {
        "colab": {
          "base_uri": "https://localhost:8080/"
        },
        "id": "wH-kAYSxbjO-",
        "outputId": "316bfb6b-b8b8-46a8-a768-6a7d657613e4"
      },
      "source": [
        "def to_cat(data, columns):\n",
        "  for col in columns:\n",
        "    data[col] = data[col].astype('category')  \n",
        "\n",
        "to_cat(nchill, ['type', 'rating'])\n",
        "\n",
        "nchill.dtypes"
      ],
      "execution_count": null,
      "outputs": [
        {
          "output_type": "execute_result",
          "data": {
            "text/plain": [
              "show_id           object\n",
              "type            category\n",
              "title             object\n",
              "director          object\n",
              "cast              object\n",
              "country           object\n",
              "date_added        object\n",
              "release_year       int64\n",
              "rating          category\n",
              "duration          object\n",
              "listed_in         object\n",
              "description       object\n",
              "dtype: object"
            ]
          },
          "metadata": {
            "tags": []
          },
          "execution_count": 7
        }
      ]
    },
    {
      "cell_type": "code",
      "metadata": {
        "colab": {
          "base_uri": "https://localhost:8080/"
        },
        "id": "Ob_vGxGTIW0V",
        "outputId": "20c02ad9-493e-4295-e2f0-754065bc0c65"
      },
      "source": [
        "nchill['rating'].unique()"
      ],
      "execution_count": null,
      "outputs": [
        {
          "output_type": "execute_result",
          "data": {
            "text/plain": [
              "['TV-MA', 'R', 'PG-13', 'TV-14', 'TV-PG', ..., 'TV-Y7', 'PG', 'G', 'NC-17', 'TV-Y7-FV']\n",
              "Length: 14\n",
              "Categories (14, object): ['TV-MA', 'R', 'PG-13', 'TV-14', ..., 'PG', 'G', 'NC-17', 'TV-Y7-FV']"
            ]
          },
          "metadata": {
            "tags": []
          },
          "execution_count": 8
        }
      ]
    },
    {
      "cell_type": "code",
      "metadata": {
        "id": "CG4fqFWbc3Nm"
      },
      "source": [
        "#Changing the date column to date type\n",
        "nchill['date_added_new'] = pd.to_datetime(nchill['date_added'])"
      ],
      "execution_count": null,
      "outputs": []
    },
    {
      "cell_type": "code",
      "metadata": {
        "id": "38k6zHdYimhi"
      },
      "source": [
        "#Removing NAs from country and replacing them with Unknown\n",
        "nchill['country'] = nchill['country'].fillna('Unknown')\n",
        "nchill['director'] = nchill['director'].fillna('Unknown')"
      ],
      "execution_count": null,
      "outputs": []
    },
    {
      "cell_type": "code",
      "metadata": {
        "id": "lImOuPoOzFIy"
      },
      "source": [
        "nchill['country'].unique()"
      ],
      "execution_count": null,
      "outputs": []
    },
    {
      "cell_type": "code",
      "metadata": {
        "colab": {
          "base_uri": "https://localhost:8080/"
        },
        "id": "PCJtWB9zjXe0",
        "outputId": "3bb3fb04-7213-4df1-c36d-5fa8ef40e389"
      },
      "source": [
        "nchill['country_fin'] = [countries[0] for countries in nchill['country'].str.split(',')]\n",
        "nchill['country_fin']"
      ],
      "execution_count": null,
      "outputs": [
        {
          "output_type": "execute_result",
          "data": {
            "text/plain": [
              "0               Brazil\n",
              "1               Mexico\n",
              "2            Singapore\n",
              "3        United States\n",
              "4        United States\n",
              "             ...      \n",
              "7782            Sweden\n",
              "7783             India\n",
              "7784           Unknown\n",
              "7785         Australia\n",
              "7786    United Kingdom\n",
              "Name: country_fin, Length: 7787, dtype: object"
            ]
          },
          "metadata": {
            "tags": []
          },
          "execution_count": 12
        }
      ]
    },
    {
      "cell_type": "code",
      "metadata": {
        "colab": {
          "base_uri": "https://localhost:8080/"
        },
        "id": "vURjc9_r2omb",
        "outputId": "b44e4419-f088-48ad-b518-8e1ea6eb94b6"
      },
      "source": [
        "nchill['country_int'] = nchill['country'].str.split(\",\")\n",
        "nchill['len_countries'] = [len(country) for country in nchill['country_int']]\n",
        "print(nchill[['country_int', 'len_countries']].head())\n",
        "nchill['mult_countries'] = np.where(nchill['len_countries']>1, \"Y\", \"N\")\n",
        "print(nchill[['country_int', 'len_countries', 'mult_countries']].head())\n",
        "nchill.drop(['country_int', 'len_countries'], axis = 1, inplace= True)"
      ],
      "execution_count": null,
      "outputs": [
        {
          "output_type": "stream",
          "text": [
            "       country_int  len_countries\n",
            "0         [Brazil]              1\n",
            "1         [Mexico]              1\n",
            "2      [Singapore]              1\n",
            "3  [United States]              1\n",
            "4  [United States]              1\n",
            "       country_int  len_countries mult_countries\n",
            "0         [Brazil]              1              N\n",
            "1         [Mexico]              1              N\n",
            "2      [Singapore]              1              N\n",
            "3  [United States]              1              N\n",
            "4  [United States]              1              N\n"
          ],
          "name": "stdout"
        }
      ]
    },
    {
      "cell_type": "code",
      "metadata": {
        "colab": {
          "base_uri": "https://localhost:8080/",
          "height": 315
        },
        "id": "iUxaW3k_wd8B",
        "outputId": "f5c60515-09f1-4d21-d78d-f0b90fc62e5a"
      },
      "source": [
        "fig = sns.countplot(data=nchill, x=\"type\")\n",
        "plt.title('Total Number of Content Available on Netflix', fontsize=16)\n",
        "plt.ylabel('Total Number')\n",
        "plt.xlabel('Content Type')"
      ],
      "execution_count": null,
      "outputs": [
        {
          "output_type": "execute_result",
          "data": {
            "text/plain": [
              "Text(0.5, 0, 'Content Type')"
            ]
          },
          "metadata": {
            "tags": []
          },
          "execution_count": 14
        },
        {
          "output_type": "display_data",
          "data": {
            "image/png": "[encoded data removed]",
            "text/plain": [
              "<Figure size 432x288 with 1 Axes>"
            ]
          },
          "metadata": {
            "tags": [],
            "needs_background": "light"
          }
        }
      ]
    },
    {
      "cell_type": "code",
      "metadata": {
        "colab": {
          "base_uri": "https://localhost:8080/",
          "height": 373
        },
        "id": "5tjjQZk6xliv",
        "outputId": "d3b8e407-7161-4574-d2fc-51bc6b1dcf45"
      },
      "source": [
        "order_rating = ['TV-Y', 'TV-Y7', 'TV-Y7-FV', 'G', 'TV-G', 'PG', 'TV-PG', 'PG-13', 'TV-14', 'R', 'NC-17', \n",
        "               'TV-MA', 'NR']\n",
        "plt.figure(figsize=(10,5))\n",
        "fig = sns.countplot(data=nchill, x=\"rating\", order=order_rating)\n",
        "plt.title('Types of Content based on Rating', fontsize=20)\n",
        "fig.set_xticklabels(order_rating)\n",
        "plt.ylabel('Total Number')\n",
        "plt.xlabel('Content Rating')"
      ],
      "execution_count": null,
      "outputs": [
        {
          "output_type": "execute_result",
          "data": {
            "text/plain": [
              "Text(0.5, 0, 'Content Rating')"
            ]
          },
          "metadata": {
            "tags": []
          },
          "execution_count": 15
        },
        {
          "output_type": "display_data",
          "data": {
            "image/png": "[encoded data removed]",
            "text/plain": [
              "<Figure size 720x360 with 1 Axes>"
            ]
          },
          "metadata": {
            "tags": [],
            "needs_background": "light"
          }
        }
      ]
    },
    {
      "cell_type": "code",
      "metadata": {
        "colab": {
          "base_uri": "https://localhost:8080/",
          "height": 381
        },
        "id": "UCNJChk2yCVR",
        "outputId": "7e7b466e-3468-4a79-98eb-4cf0fb2d1bc5"
      },
      "source": [
        "def group_by_rating(rating):\n",
        "    if rating in ['TV-Y', 'TV-Y7', 'TV-Y7-FV', 'G', 'TV-G', 'PG', 'TV-PG']:\n",
        "        new_ratin_group = 'under 12'\n",
        "    elif rating in ['PG-13', 'TV-14']:\n",
        "        new_ratin_group = '10-18 yrs'\n",
        "    elif rating in ['R', 'NC-17', 'TV-MA']:\n",
        "        new_ratin_group = 'Adults'\n",
        "    else:\n",
        "        new_ratin_group = 'Unrated'\n",
        "    return new_ratin_group \n",
        "        \n",
        "\n",
        "nchill['rating_grp'] = nchill.apply(lambda x: group_by_rating(x['rating']), axis=1)\n",
        "\n",
        "order_rating = ['under 12', '10-18 yrs', 'Adults', 'Unrated']\n",
        "fig = sns.countplot(data=nchill, x=\"rating_group\", order=order_rating, hue = 'type')\n",
        "plt.title('Rating of Content based on Content Type', fontsize=20)\n",
        "fig.set_xticklabels(order_rating)\n",
        "plt.ylabel('Total Number')\n",
        "plt.xlabel('Age Groups')"
      ],
      "execution_count": null,
      "outputs": [
        {
          "output_type": "error",
          "ename": "ValueError",
          "evalue": "ignored",
          "traceback": [
            "\u001b[0;31m---------------------------------------------------------------------------\u001b[0m",
            "\u001b[0;31mValueError\u001b[0m                                Traceback (most recent call last)",
            "\u001b[0;32m<ipython-input-16-d583d5767046>\u001b[0m in \u001b[0;36m<module>\u001b[0;34m()\u001b[0m\n\u001b[1;32m     14\u001b[0m \u001b[0;34m\u001b[0m\u001b[0m\n\u001b[1;32m     15\u001b[0m \u001b[0morder_rating\u001b[0m \u001b[0;34m=\u001b[0m \u001b[0;34m[\u001b[0m\u001b[0;34m'under 12'\u001b[0m\u001b[0;34m,\u001b[0m \u001b[0;34m'10-18 yrs'\u001b[0m\u001b[0;34m,\u001b[0m \u001b[0;34m'Adults'\u001b[0m\u001b[0;34m,\u001b[0m \u001b[0;34m'Unrated'\u001b[0m\u001b[0;34m]\u001b[0m\u001b[0;34m\u001b[0m\u001b[0;34m\u001b[0m\u001b[0m\n\u001b[0;32m---> 16\u001b[0;31m \u001b[0mfig\u001b[0m \u001b[0;34m=\u001b[0m \u001b[0msns\u001b[0m\u001b[0;34m.\u001b[0m\u001b[0mcountplot\u001b[0m\u001b[0;34m(\u001b[0m\u001b[0mdata\u001b[0m\u001b[0;34m=\u001b[0m\u001b[0mnchill\u001b[0m\u001b[0;34m,\u001b[0m \u001b[0mx\u001b[0m\u001b[0;34m=\u001b[0m\u001b[0;34m\"rating_group\"\u001b[0m\u001b[0;34m,\u001b[0m \u001b[0morder\u001b[0m\u001b[0;34m=\u001b[0m\u001b[0morder_rating\u001b[0m\u001b[0;34m,\u001b[0m \u001b[0mhue\u001b[0m \u001b[0;34m=\u001b[0m \u001b[0;34m'type'\u001b[0m\u001b[0;34m)\u001b[0m\u001b[0;34m\u001b[0m\u001b[0;34m\u001b[0m\u001b[0m\n\u001b[0m\u001b[1;32m     17\u001b[0m \u001b[0mplt\u001b[0m\u001b[0;34m.\u001b[0m\u001b[0mtitle\u001b[0m\u001b[0;34m(\u001b[0m\u001b[0;34m'Rating of Content based on Content Type'\u001b[0m\u001b[0;34m,\u001b[0m \u001b[0mfontsize\u001b[0m\u001b[0;34m=\u001b[0m\u001b[0;36m20\u001b[0m\u001b[0;34m)\u001b[0m\u001b[0;34m\u001b[0m\u001b[0;34m\u001b[0m\u001b[0m\n\u001b[1;32m     18\u001b[0m \u001b[0mfig\u001b[0m\u001b[0;34m.\u001b[0m\u001b[0mset_xticklabels\u001b[0m\u001b[0;34m(\u001b[0m\u001b[0morder_rating\u001b[0m\u001b[0;34m)\u001b[0m\u001b[0;34m\u001b[0m\u001b[0;34m\u001b[0m\u001b[0m\n",
            "\u001b[0;32m/usr/local/lib/python3.7/dist-packages/seaborn/_decorators.py\u001b[0m in \u001b[0;36minner_f\u001b[0;34m(*args, **kwargs)\u001b[0m\n\u001b[1;32m     44\u001b[0m             )\n\u001b[1;32m     45\u001b[0m         \u001b[0mkwargs\u001b[0m\u001b[0;34m.\u001b[0m\u001b[0mupdate\u001b[0m\u001b[0;34m(\u001b[0m\u001b[0;34m{\u001b[0m\u001b[0mk\u001b[0m\u001b[0;34m:\u001b[0m \u001b[0marg\u001b[0m \u001b[0;32mfor\u001b[0m \u001b[0mk\u001b[0m\u001b[0;34m,\u001b[0m \u001b[0marg\u001b[0m \u001b[0;32min\u001b[0m \u001b[0mzip\u001b[0m\u001b[0;34m(\u001b[0m\u001b[0msig\u001b[0m\u001b[0;34m.\u001b[0m\u001b[0mparameters\u001b[0m\u001b[0;34m,\u001b[0m \u001b[0margs\u001b[0m\u001b[0;34m)\u001b[0m\u001b[0;34m}\u001b[0m\u001b[0;34m)\u001b[0m\u001b[0;34m\u001b[0m\u001b[0;34m\u001b[0m\u001b[0m\n\u001b[0;32m---> 46\u001b[0;31m         \u001b[0;32mreturn\u001b[0m \u001b[0mf\u001b[0m\u001b[0;34m(\u001b[0m\u001b[0;34m**\u001b[0m\u001b[0mkwargs\u001b[0m\u001b[0;34m)\u001b[0m\u001b[0;34m\u001b[0m\u001b[0;34m\u001b[0m\u001b[0m\n\u001b[0m\u001b[1;32m     47\u001b[0m     \u001b[0;32mreturn\u001b[0m \u001b[0minner_f\u001b[0m\u001b[0;34m\u001b[0m\u001b[0;34m\u001b[0m\u001b[0m\n\u001b[1;32m     48\u001b[0m \u001b[0;34m\u001b[0m\u001b[0m\n",
            "\u001b[0;32m/usr/local/lib/python3.7/dist-packages/seaborn/categorical.py\u001b[0m in \u001b[0;36mcountplot\u001b[0;34m(x, y, hue, data, order, hue_order, orient, color, palette, saturation, dodge, ax, **kwargs)\u001b[0m\n\u001b[1;32m   3597\u001b[0m         \u001b[0mestimator\u001b[0m\u001b[0;34m,\u001b[0m \u001b[0mci\u001b[0m\u001b[0;34m,\u001b[0m \u001b[0mn_boot\u001b[0m\u001b[0;34m,\u001b[0m \u001b[0munits\u001b[0m\u001b[0;34m,\u001b[0m \u001b[0mseed\u001b[0m\u001b[0;34m,\u001b[0m\u001b[0;34m\u001b[0m\u001b[0;34m\u001b[0m\u001b[0m\n\u001b[1;32m   3598\u001b[0m         \u001b[0morient\u001b[0m\u001b[0;34m,\u001b[0m \u001b[0mcolor\u001b[0m\u001b[0;34m,\u001b[0m \u001b[0mpalette\u001b[0m\u001b[0;34m,\u001b[0m \u001b[0msaturation\u001b[0m\u001b[0;34m,\u001b[0m\u001b[0;34m\u001b[0m\u001b[0;34m\u001b[0m\u001b[0m\n\u001b[0;32m-> 3599\u001b[0;31m         \u001b[0merrcolor\u001b[0m\u001b[0;34m,\u001b[0m \u001b[0merrwidth\u001b[0m\u001b[0;34m,\u001b[0m \u001b[0mcapsize\u001b[0m\u001b[0;34m,\u001b[0m \u001b[0mdodge\u001b[0m\u001b[0;34m\u001b[0m\u001b[0;34m\u001b[0m\u001b[0m\n\u001b[0m\u001b[1;32m   3600\u001b[0m     )\n\u001b[1;32m   3601\u001b[0m \u001b[0;34m\u001b[0m\u001b[0m\n",
            "\u001b[0;32m/usr/local/lib/python3.7/dist-packages/seaborn/categorical.py\u001b[0m in \u001b[0;36m__init__\u001b[0;34m(self, x, y, hue, data, order, hue_order, estimator, ci, n_boot, units, seed, orient, color, palette, saturation, errcolor, errwidth, capsize, dodge)\u001b[0m\n\u001b[1;32m   1583\u001b[0m         \u001b[0;34m\"\"\"Initialize the plotter.\"\"\"\u001b[0m\u001b[0;34m\u001b[0m\u001b[0;34m\u001b[0m\u001b[0m\n\u001b[1;32m   1584\u001b[0m         self.establish_variables(x, y, hue, data, orient,\n\u001b[0;32m-> 1585\u001b[0;31m                                  order, hue_order, units)\n\u001b[0m\u001b[1;32m   1586\u001b[0m         \u001b[0mself\u001b[0m\u001b[0;34m.\u001b[0m\u001b[0mestablish_colors\u001b[0m\u001b[0;34m(\u001b[0m\u001b[0mcolor\u001b[0m\u001b[0;34m,\u001b[0m \u001b[0mpalette\u001b[0m\u001b[0;34m,\u001b[0m \u001b[0msaturation\u001b[0m\u001b[0;34m)\u001b[0m\u001b[0;34m\u001b[0m\u001b[0;34m\u001b[0m\u001b[0m\n\u001b[1;32m   1587\u001b[0m         \u001b[0mself\u001b[0m\u001b[0;34m.\u001b[0m\u001b[0mestimate_statistic\u001b[0m\u001b[0;34m(\u001b[0m\u001b[0mestimator\u001b[0m\u001b[0;34m,\u001b[0m \u001b[0mci\u001b[0m\u001b[0;34m,\u001b[0m \u001b[0mn_boot\u001b[0m\u001b[0;34m,\u001b[0m \u001b[0mseed\u001b[0m\u001b[0;34m)\u001b[0m\u001b[0;34m\u001b[0m\u001b[0;34m\u001b[0m\u001b[0m\n",
            "\u001b[0;32m/usr/local/lib/python3.7/dist-packages/seaborn/categorical.py\u001b[0m in \u001b[0;36mestablish_variables\u001b[0;34m(self, x, y, hue, data, orient, order, hue_order, units)\u001b[0m\n\u001b[1;32m    151\u001b[0m                 \u001b[0;32mif\u001b[0m \u001b[0misinstance\u001b[0m\u001b[0;34m(\u001b[0m\u001b[0mvar\u001b[0m\u001b[0;34m,\u001b[0m \u001b[0mstr\u001b[0m\u001b[0;34m)\u001b[0m\u001b[0;34m:\u001b[0m\u001b[0;34m\u001b[0m\u001b[0;34m\u001b[0m\u001b[0m\n\u001b[1;32m    152\u001b[0m                     \u001b[0merr\u001b[0m \u001b[0;34m=\u001b[0m \u001b[0;34m\"Could not interpret input '{}'\"\u001b[0m\u001b[0;34m.\u001b[0m\u001b[0mformat\u001b[0m\u001b[0;34m(\u001b[0m\u001b[0mvar\u001b[0m\u001b[0;34m)\u001b[0m\u001b[0;34m\u001b[0m\u001b[0;34m\u001b[0m\u001b[0m\n\u001b[0;32m--> 153\u001b[0;31m                     \u001b[0;32mraise\u001b[0m \u001b[0mValueError\u001b[0m\u001b[0;34m(\u001b[0m\u001b[0merr\u001b[0m\u001b[0;34m)\u001b[0m\u001b[0;34m\u001b[0m\u001b[0;34m\u001b[0m\u001b[0m\n\u001b[0m\u001b[1;32m    154\u001b[0m \u001b[0;34m\u001b[0m\u001b[0m\n\u001b[1;32m    155\u001b[0m             \u001b[0;31m# Figure out the plotting orientation\u001b[0m\u001b[0;34m\u001b[0m\u001b[0;34m\u001b[0m\u001b[0;34m\u001b[0m\u001b[0m\n",
            "\u001b[0;31mValueError\u001b[0m: Could not interpret input 'rating_group'"
          ]
        }
      ]
    },
    {
      "cell_type": "code",
      "metadata": {
        "colab": {
          "base_uri": "https://localhost:8080/"
        },
        "id": "v6M1oLVpy6rT",
        "outputId": "a4f086b6-609f-4044-df42-50cb260295c8"
      },
      "source": [
        "#Now we are going to look into genres\n",
        "nchill['listed_in'] = nchill['listed_in'].str.split(', ')\n",
        "nchill['listed_in']"
      ],
      "execution_count": null,
      "outputs": [
        {
          "output_type": "execute_result",
          "data": {
            "text/plain": [
              "0       [International TV Shows, TV Dramas, TV Sci-Fi ...\n",
              "1                          [Dramas, International Movies]\n",
              "2                   [Horror Movies, International Movies]\n",
              "3       [Action & Adventure, Independent Movies, Sci-F...\n",
              "4                                                [Dramas]\n",
              "                              ...                        \n",
              "7782                       [Dramas, International Movies]\n",
              "7783     [Dramas, International Movies, Music & Musicals]\n",
              "7784    [Documentaries, International Movies, Music & ...\n",
              "7785                 [International TV Shows, Reality TV]\n",
              "7786                    [Documentaries, Music & Musicals]\n",
              "Name: listed_in, Length: 7787, dtype: object"
            ]
          },
          "metadata": {
            "tags": []
          },
          "execution_count": 17
        }
      ]
    },
    {
      "cell_type": "code",
      "metadata": {
        "colab": {
          "base_uri": "https://localhost:8080/"
        },
        "id": "eRkzpYzmz4mO",
        "outputId": "9f3b513c-3aaf-4c6d-81a0-d8aad20bdf66"
      },
      "source": [
        "#Understanding the maximum count of Genres\n",
        "count_genre = [len(genre) for genre in nchill['listed_in']]\n",
        "max(count_genre)"
      ],
      "execution_count": null,
      "outputs": [
        {
          "output_type": "execute_result",
          "data": {
            "text/plain": [
              "3"
            ]
          },
          "metadata": {
            "tags": []
          },
          "execution_count": 18
        }
      ]
    },
    {
      "cell_type": "code",
      "metadata": {
        "id": "IiRGyVTr1G70"
      },
      "source": [
        "#Creating new columns for categories from listed_in\n",
        "nchill[['category1','category2', 'category3']] = pd.DataFrame(nchill.listed_in.tolist(), index= nchill.index)"
      ],
      "execution_count": null,
      "outputs": []
    },
    {
      "cell_type": "code",
      "metadata": {
        "colab": {
          "base_uri": "https://localhost:8080/"
        },
        "id": "FDtUg9dK2NKo",
        "outputId": "8bb89e9a-2a82-4ae7-9b1d-5c0686675cea"
      },
      "source": [
        "nchill_cat = nchill[['type', 'category1','category2', 'category3']] #Subseting the data based on columns\n",
        "nchill_cat= pd.get_dummies(nchill_cat.set_index('type'), prefix='',prefix_sep='').stack().sum(level=[0,1]) #pd.groupby can also be used here\n",
        "nchill_cat"
      ],
      "execution_count": null,
      "outputs": [
        {
          "output_type": "execute_result",
          "data": {
            "text/plain": [
              "type                             \n",
              "Movie    Action & Adventure          721.0\n",
              "         Anime Features               57.0\n",
              "         Anime Series                  0.0\n",
              "         British TV Shows              0.0\n",
              "         Children & Family Movies    532.0\n",
              "                                     ...  \n",
              "TV Show  TV Sci-Fi & Fantasy          76.0\n",
              "         TV Shows                     12.0\n",
              "         TV Thrillers                 50.0\n",
              "         Teen TV Shows                60.0\n",
              "         Thrillers                     0.0\n",
              "Length: 84, dtype: float64"
            ]
          },
          "metadata": {
            "tags": []
          },
          "execution_count": 20
        }
      ]
    },
    {
      "cell_type": "code",
      "metadata": {
        "colab": {
          "base_uri": "https://localhost:8080/",
          "height": 415
        },
        "id": "1HczqaaV7ctc",
        "outputId": "c42f8950-8a4e-4530-9a6d-7bd636f98d6f"
      },
      "source": [
        "plt.figure(figsize=(10,5))\n",
        "fig = sns.barplot(x = nchill_cat['TV Show'].sort_values(ascending=False).head(10).index, \n",
        "                  y = nchill_cat['TV Show'].sort_values(ascending=False).head(10))\n",
        "plt.title('Top 10 genres in TV Shows present on Netflix', fontsize=20)\n",
        "plt.xticks(rotation=30, horizontalalignment=\"right\")\n",
        "plt.ylabel('Total Number')"
      ],
      "execution_count": null,
      "outputs": [
        {
          "output_type": "execute_result",
          "data": {
            "text/plain": [
              "Text(0, 0.5, 'Total Number')"
            ]
          },
          "metadata": {
            "tags": []
          },
          "execution_count": 21
        },
        {
          "output_type": "display_data",
          "data": {
            "image/png": "[encoded data removed]",
            "text/plain": [
              "<Figure size 720x360 with 1 Axes>"
            ]
          },
          "metadata": {
            "tags": [],
            "needs_background": "light"
          }
        }
      ]
    },
    {
      "cell_type": "code",
      "metadata": {
        "colab": {
          "base_uri": "https://localhost:8080/",
          "height": 419
        },
        "id": "l9rfOZvW7wAp",
        "outputId": "a0c7675e-5aeb-4b9a-b686-bfd6e2a944d5"
      },
      "source": [
        "nchill_cat['Movie'].sort_values(ascending=False)\n",
        "plt.figure(figsize=(10,5))\n",
        "fig = sns.barplot(x = nchill_cat['Movie'].sort_values(ascending=False).head(10).index, \n",
        "                  y = nchill_cat['Movie'].sort_values(ascending=False).head(10))\n",
        "plt.title('Top 10 genres in Movies present on Netflix', fontsize=20)\n",
        "plt.xticks(rotation=30, horizontalalignment=\"right\")\n",
        "plt.ylabel('Total Number')"
      ],
      "execution_count": null,
      "outputs": [
        {
          "output_type": "execute_result",
          "data": {
            "text/plain": [
              "Text(0, 0.5, 'Total Number')"
            ]
          },
          "metadata": {
            "tags": []
          },
          "execution_count": 22
        },
        {
          "output_type": "display_data",
          "data": {
            "image/png": "[encoded data removed]",
            "text/plain": [
              "<Figure size 720x360 with 1 Axes>"
            ]
          },
          "metadata": {
            "tags": [],
            "needs_background": "light"
          }
        }
      ]
    },
    {
      "cell_type": "code",
      "metadata": {
        "id": "qVVUFVdRNVE9"
      },
      "source": [
        "#Duration differs on Type column, for movies it is in minutes where as for tv shows it is wrt seasons \n",
        "nchill['duration'] = [int(duration[0]) for duration in nchill['duration'].str.split(' ')]\n",
        "nchill['duration']"
      ],
      "execution_count": null,
      "outputs": []
    },
    {
      "cell_type": "code",
      "metadata": {
        "id": "N2ONgX0ONDII"
      },
      "source": [
        "plt.figure(figsize=(10,5))\n",
        "fig = sns.barplot(x = nchill[nchill['type']=='TV Show']['duration'].value_counts().index, \n",
        "                  y = nchill[nchill['type']=='TV Show']['duration'].value_counts())\n",
        "plt.title('Duration of TV Shows', fontsize=20)\n",
        "plt.ylabel('Count')\n",
        "plt.xlabel('Duration (seasons)')"
      ],
      "execution_count": null,
      "outputs": []
    },
    {
      "cell_type": "code",
      "metadata": {
        "id": "VrpDyeJ_PZnY"
      },
      "source": [
        "#We can also look into the Spread of duration with respect to movies on Netflix\n",
        "nchill[nchill['type']=='Movie']['duration'].describe()"
      ],
      "execution_count": null,
      "outputs": []
    },
    {
      "cell_type": "code",
      "metadata": {
        "id": "nT4nHp9uQpGh"
      },
      "source": [
        "#Let us analyse the countries which have highest amount of content wrt TV Shows\n",
        "nchill[nchill['type']=='TV Show'].groupby(['country_fin'])['country_fin'].agg('count').nlargest(10)"
      ],
      "execution_count": null,
      "outputs": []
    },
    {
      "cell_type": "code",
      "metadata": {
        "id": "ICj4KHldWLwy"
      },
      "source": [
        "# We can get the count for both Movies as well as TV Shows and then check the Top countries contributing to the content\n",
        "type_grp = nchill.groupby(['country_fin', 'type']) #Creating a group-by object\n",
        "type_grp_cnt = type_grp['country_fin'].agg({'count'}) #Getting the count\n",
        "type_grp_cnt = type_grp_cnt.reset_index() #Coercing it to a dataframe\n",
        "type_grp_cnt.head()"
      ],
      "execution_count": null,
      "outputs": []
    },
    {
      "cell_type": "code",
      "metadata": {
        "id": "9k4wkHBzeXTE"
      },
      "source": [
        "type_grp_cnt[type_grp_cnt['type'] == 'TV Show'].sort_values(by = 'count', ascending = False) "
      ],
      "execution_count": null,
      "outputs": []
    },
    {
      "cell_type": "code",
      "metadata": {
        "id": "VbTv9DAzbzIQ"
      },
      "source": [
        "#Getting the top 5 countries by content contribution wrt Movies\n",
        "sns.barplot(x = type_grp_cnt[type_grp_cnt['type'] == 'Movie'].sort_values(by = 'count', ascending = False)['country_fin'].head(5), \n",
        "            y = type_grp_cnt[type_grp_cnt['type'] == 'Movie'].sort_values(by = 'count', ascending = False)['count'].head(5))\n",
        "plt.xticks(rotation=30, horizontalalignment=\"right\")\n",
        "plt.title(\"Top 5 countries with Movies on Netflix\")\n",
        "plt.xlabel('Countries')\n",
        "plt.ylabel('counts')"
      ],
      "execution_count": null,
      "outputs": []
    },
    {
      "cell_type": "code",
      "metadata": {
        "id": "U5cL9xtegJEF"
      },
      "source": [
        "#Getting the top 5 countries by content contribution wrt TV Shows\n",
        "sns.barplot(x = type_grp_cnt[type_grp_cnt['type'] == 'TV Show'].sort_values(by = 'count', ascending = False)['country_fin'].head(5), \n",
        "            y = type_grp_cnt[type_grp_cnt['type'] == 'TV Show'].sort_values(by = 'count', ascending = False)['count'].head(5))\n",
        "plt.xticks(rotation=30, horizontalalignment=\"right\")\n",
        "plt.title(f'Top 5 countries with TV Shows on Netflix', fontsize=20)\n",
        "plt.ylabel('Count')\n",
        "plt.xlabel('Countries')"
      ],
      "execution_count": null,
      "outputs": []
    },
    {
      "cell_type": "markdown",
      "metadata": {
        "id": "-_9P2UtvhtCJ"
      },
      "source": [
        "The analysis can further drill down to understand which type genres are produced more country wise.\n",
        "Or Country vs Ratings can also be analysed."
      ]
    },
    {
      "cell_type": "markdown",
      "metadata": {
        "id": "hFnCYqNAvc2u"
      },
      "source": [
        "## BOSTON HOUSING DATA"
      ]
    },
    {
      "cell_type": "code",
      "metadata": {
        "id": "E0VT1Vy5viRn"
      },
      "source": [
        "import pandas as pd\n",
        "housing = pd.read_csv('/content/drive/MyDrive/2_UPg/EDA/Boston_housing/housing.csv')"
      ],
      "execution_count": null,
      "outputs": []
    },
    {
      "cell_type": "code",
      "metadata": {
        "id": "DTtVYVzzviuj"
      },
      "source": [
        "housing.head()"
      ],
      "execution_count": null,
      "outputs": []
    },
    {
      "cell_type": "code",
      "metadata": {
        "id": "HxStGpU0v9kv"
      },
      "source": [
        "housing.info()"
      ],
      "execution_count": null,
      "outputs": []
    },
    {
      "cell_type": "code",
      "metadata": {
        "id": "MO7GkklJwCGw"
      },
      "source": [
        "housing.describe()"
      ],
      "execution_count": null,
      "outputs": []
    },
    {
      "cell_type": "code",
      "metadata": {
        "id": "SiFkMFW6wHaI"
      },
      "source": [
        "%matplotlib inline\n",
        "import matplotlib.pyplot as plt\n",
        "housing.hist(bins=50, figsize=(20,15))\n",
        "plt.show()"
      ],
      "execution_count": null,
      "outputs": []
    },
    {
      "cell_type": "code",
      "metadata": {
        "id": "TGKeouDjwgY-"
      },
      "source": [
        "housing[\"median_income\"].hist()"
      ],
      "execution_count": null,
      "outputs": []
    },
    {
      "cell_type": "code",
      "metadata": {
        "id": "MVePIKc6wxlO"
      },
      "source": [
        "housing[\"income_cat\"] = pd.cut(housing[\"median_income\"],\n",
        "                               bins=[0., 1.5, 3.0, 4.5, 6., np.inf],\n",
        "                               labels=[1, 2, 3, 4, 5])\n",
        "housing[\"income_cat\"].value_counts()"
      ],
      "execution_count": null,
      "outputs": []
    },
    {
      "cell_type": "code",
      "metadata": {
        "id": "sW9EivZRw2at"
      },
      "source": [
        "housing[\"income_cat\"].hist()"
      ],
      "execution_count": null,
      "outputs": []
    },
    {
      "cell_type": "markdown",
      "metadata": {
        "id": "bWj3cdKD-GHb"
      },
      "source": [
        "For creating test train split we can leverage income_cat for creating a stratified sample."
      ]
    },
    {
      "cell_type": "code",
      "metadata": {
        "id": "VuJ56DWTxBDx"
      },
      "source": [
        "housing.plot(kind=\"scatter\", x=\"longitude\", y=\"latitude\")"
      ],
      "execution_count": null,
      "outputs": []
    },
    {
      "cell_type": "markdown",
      "metadata": {
        "id": "zx5IRqWd9Kt-"
      },
      "source": [
        "There's surely an overlap wrt data points, so let's set the alpha argument to 0.1 to give us areas which have density of data"
      ]
    },
    {
      "cell_type": "code",
      "metadata": {
        "id": "6zZoguESxGJh"
      },
      "source": [
        "housing.plot(kind=\"scatter\", x=\"longitude\", y=\"latitude\", alpha=0.1)"
      ],
      "execution_count": null,
      "outputs": []
    },
    {
      "cell_type": "code",
      "metadata": {
        "id": "nhi_V2olxKKe"
      },
      "source": [
        "housing.plot(kind=\"scatter\", x=\"longitude\", y=\"latitude\", alpha=0.4,\n",
        "             s=housing[\"population\"]/100, label=\"population\", figsize=(10,7),\n",
        "             c=\"median_house_value\", cmap=plt.get_cmap(\"jet\"), colorbar=True,\n",
        "             sharex=False)\n",
        "plt.legend()\n",
        "# Here, s will set the radius of circles depending upon the pop/100 \n",
        "# c will set the color for median house map with cmap \"jet\""
      ],
      "execution_count": null,
      "outputs": []
    },
    {
      "cell_type": "code",
      "metadata": {
        "id": "YZZigbq6xwy8"
      },
      "source": [
        "import matplotlib.image as mpimg\n",
        "california_img=mpimg.imread('/content/drive/MyDrive/2_UPg/EDA/Boston_housing/california.png')\n",
        "ax = housing.plot(kind=\"scatter\", x=\"longitude\", y=\"latitude\", figsize=(10,7),\n",
        "                  s=housing['population']/100, label=\"Population\",\n",
        "                  c=\"median_house_value\", cmap=plt.get_cmap(\"jet\"),\n",
        "                  colorbar=False, alpha=0.4)\n",
        "plt.imshow(california_img, extent=[-124.55, -113.80, 32.45, 42.05], alpha=0.5,\n",
        "           cmap=plt.get_cmap(\"jet\"))\n",
        "plt.ylabel(\"Latitude\", fontsize=14)\n",
        "plt.xlabel(\"Longitude\", fontsize=14)\n",
        "\n",
        "prices = housing[\"median_house_value\"]\n",
        "tick_values = np.linspace(prices.min(), prices.max(), 11)\n",
        "cbar = plt.colorbar(ticks=tick_values/prices.max())\n",
        "cbar.ax.set_yticklabels([\"$%dk\"%(round(v/1000)) for v in tick_values], fontsize=14)\n",
        "cbar.set_label('Median House Value', fontsize=16)\n",
        "\n",
        "plt.legend(fontsize=16)\n",
        "plt.show()"
      ],
      "execution_count": null,
      "outputs": []
    },
    {
      "cell_type": "markdown",
      "metadata": {
        "id": "boyMvmjZ8hvC"
      },
      "source": [
        "Seeing this we can build certain assumptions on how median house values are affected because of locations."
      ]
    },
    {
      "cell_type": "code",
      "metadata": {
        "id": "AJYX_P1U9Fdw"
      },
      "source": [
        ""
      ],
      "execution_count": null,
      "outputs": []
    }
  ]
}